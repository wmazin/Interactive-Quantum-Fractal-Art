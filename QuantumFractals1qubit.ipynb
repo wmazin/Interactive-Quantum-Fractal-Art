{
 "cells": [
  {
   "cell_type": "code",
   "execution_count": 20,
   "id": "283f043b-c89e-4ad7-9297-c78b65a0d6ac",
   "metadata": {},
   "outputs": [],
   "source": [
    "# Importing standard python libraries\n",
    "import numpy as np\n",
    "from math import pi,sqrt\n",
    "import matplotlib.pyplot as plt\n",
    "\n",
    "# Importing standard Qiskit libraries\n",
    "from qiskit import QuantumCircuit, transpile, Aer, IBMQ, execute, QuantumRegister\n",
    "from qiskit.tools.jupyter import *\n",
    "from qiskit.visualization import * # plot_bloch_multivector\n",
    "from ibm_quantum_widgets import * # CircuitComposer\n",
    "from qiskit.providers.aer import QasmSimulator\n",
    "from qiskit.quantum_info import Statevector\n",
    "\n",
    "# Loading your IBM Quantum account(s)\n",
    "# provider = IBMQ.load_account()"
   ]
  },
  {
   "cell_type": "code",
   "execution_count": 21,
   "id": "70becedc-f81a-4dc4-94d0-b8eb9d0d9071",
   "metadata": {},
   "outputs": [],
   "source": [
    "a, b, c = \"pi/4\", \"-pi/3\", \"pi/8\"\n",
    "filename = a + \"_\" + b + \"_\" + c\n",
    "filename = \"website/images/\" + filename.replace('/','') + \".png\""
   ]
  },
  {
   "cell_type": "code",
   "execution_count": 24,
   "id": "307cf491-16cd-440f-a09b-af1d26ae4ff2",
   "metadata": {},
   "outputs": [
    {
     "ename": "ValueError",
     "evalue": "invalid literal for int() with base 10: 'pi/4'",
     "output_type": "error",
     "traceback": [
      "\u001b[1;31m---------------------------------------------------------------------------\u001b[0m",
      "\u001b[1;31mValueError\u001b[0m                                Traceback (most recent call last)",
      "Input \u001b[1;32mIn [24]\u001b[0m, in \u001b[0;36m<cell line: 4>\u001b[1;34m()\u001b[0m\n\u001b[0;32m      2\u001b[0m circuit \u001b[38;5;241m=\u001b[39m QuantumCircuit(\u001b[38;5;241m1\u001b[39m,\u001b[38;5;241m1\u001b[39m)\n\u001b[0;32m      3\u001b[0m circuit\u001b[38;5;241m.\u001b[39mh(\u001b[38;5;241m0\u001b[39m)\n\u001b[1;32m----> 4\u001b[0m circuit\u001b[38;5;241m.\u001b[39mu(\u001b[38;5;28;43mint\u001b[39;49m\u001b[43m \u001b[49m\u001b[43m(\u001b[49m\u001b[43ma\u001b[49m\u001b[43m)\u001b[49m, \u001b[38;5;28mint\u001b[39m (b), \u001b[38;5;28mint\u001b[39m (c), \u001b[38;5;241m0\u001b[39m)\n\u001b[0;32m      5\u001b[0m editor \u001b[38;5;241m=\u001b[39m CircuitComposer(circuit\u001b[38;5;241m=\u001b[39mcircuit)\n\u001b[0;32m      6\u001b[0m editor\n",
      "\u001b[1;31mValueError\u001b[0m: invalid literal for int() with base 10: 'pi/4'"
     ]
    }
   ],
   "source": [
    "# Start with an one qubit quantum circuit yielding a nice fractal. Change the circuit as you like.\n",
    "circuit = QuantumCircuit(1,1)\n",
    "circuit.h(0)\n",
    "circuit.u(int (a), int (b), int (c), 0)\n",
    "editor = CircuitComposer(circuit=circuit)\n",
    "editor"
   ]
  },
  {
   "cell_type": "code",
   "execution_count": null,
   "id": "02c715dc-f48f-43d9-9059-aca1b313ecea",
   "metadata": {},
   "outputs": [],
   "source": [
    "# View the circiut quantum state on the Bloch sphere \n",
    "qc1 = editor.circuit\n",
    "plot_bloch_multivector(qc1)"
   ]
  },
  {
   "cell_type": "code",
   "execution_count": 23,
   "id": "b01a6b01-5181-41e6-8027-d35a6c49c5c5",
   "metadata": {},
   "outputs": [
    {
     "name": "stdout",
     "output_type": "stream",
     "text": [
      "z=  0j\n"
     ]
    },
    {
     "data": {
      "image/png": "[encoded data removed]",
      "text/plain": [
       "<Figure size 432x288 with 1 Axes>"
      ]
     },
     "metadata": {
      "needs_background": "light"
     },
     "output_type": "display_data"
    }
   ],
   "source": [
    "# Run the circuit with the state vector simulator to obtain a noise-free fractal.\n",
    "backend = Aer.get_backend('statevector_simulator')\n",
    "out = execute(qc1,backend).result().get_statevector()\n",
    "#print(out)\n",
    "\n",
    "# Extract the first element of the state vector as z0 and the second element as z1.\n",
    "z0 = out.data[0]\n",
    "z1 = out.data[1]\n",
    "\n",
    "\n",
    "# Goal: One complex number for the Julia set fractal. \n",
    "if z1.real != 0 or z1.imag != 0:\n",
    "    z = z0/z1\n",
    "    z = round(z.real, 2) + round(z.imag, 2) * 1j\n",
    "else:\n",
    "     z = 0 \n",
    "\n",
    "print(\"z= \",z)\n",
    "\n",
    "# Define the size\n",
    "size = 1000\n",
    "heightsize = size\n",
    "widthsize = size\n",
    "\n",
    "\n",
    "def julia_set(c=z, height=heightsize, width=widthsize, x=0, y=0, zoom=1, max_iterations=100):\n",
    "\n",
    "    # To make navigation easier we calculate these values\n",
    "    x_width = 1.5\n",
    "    y_height = 1.5*height/width\n",
    "    x_from = x - x_width/zoom\n",
    "    x_to = x + x_width/zoom\n",
    "    y_from = y - y_height/zoom\n",
    "    y_to = y + y_height/zoom\n",
    "    \n",
    "    # Here the actual algorithm starts and the z paramter is defined for the Julia set function\n",
    "    x = np.linspace(x_from, x_to, width).reshape((1, width))\n",
    "    y = np.linspace(y_from, y_to, height).reshape((height, 1))\n",
    "    z = x + 1j * y\n",
    "    \n",
    "    # Initialize c to the complex number obtained from the quantum circuit\n",
    "    c = np.full(z.shape, c)\n",
    "    \n",
    "    # To keep track in which iteration the point diverged\n",
    "    div_time = np.zeros(z.shape, dtype=int)\n",
    "    \n",
    "    # To keep track on which points did not converge so far\n",
    "    m = np.full(c.shape, True, dtype=bool)\n",
    "    \n",
    "    for i in range(max_iterations):\n",
    "        z[m] = z[m]**2 + c[m] \n",
    "        m[np.abs(z) > 2] = False\n",
    "        div_time[m] = i\n",
    "    return div_time\n",
    "\n",
    "\n",
    "# plot the Julia set fractal\n",
    "plt.imshow(julia_set(), cmap='magma') # viridis', 'plasma', 'inferno', 'magma', 'cividis'\n",
    "plt.savefig(filename)\n",
    "plt.show()"
   ]
  },
  {
   "cell_type": "markdown",
   "id": "23fc807d-112b-48be-ae76-d422c32b956c",
   "metadata": {},
   "source": [
    "# Running on a real quantum computer\n",
    "### Identify the least busy system, perform measurements and run on the backend"
   ]
  },
  {
   "cell_type": "code",
   "execution_count": 14,
   "id": "2f0fb7b6-c858-4ae6-8bcc-b55abe61aff1",
   "metadata": {},
   "outputs": [
    {
     "name": "stdout",
     "output_type": "stream",
     "text": [
      "The least busy quantum computer now is ibmq_manila\n"
     ]
    }
   ],
   "source": [
    "# Find the least busy system that has at least 1 qubit\n",
    "from qiskit.providers.ibmq import least_busy\n",
    "\n",
    "ibmq_backend = least_busy(provider.backends(filters=lambda x: x.configuration().n_qubits >= 1 and \n",
    "                                   not x.configuration().simulator and x.status().operational==True))\n",
    "\n",
    "print(\"The least busy quantum computer now is\",ibmq_backend)"
   ]
  },
  {
   "cell_type": "code",
   "execution_count": 15,
   "id": "45e29602-c3cf-4a2d-902f-48b48c37f64e",
   "metadata": {},
   "outputs": [
    {
     "data": {
      "text/html": [
       "<pre style=\"word-wrap: normal;white-space: pre;background: #fff0;line-height: 1.1;font-family: &quot;Courier New&quot;,Courier,monospace\">     ┌───┐┌─────────────────┐┌─┐\n",
       "  q: ┤ H ├┤ U(π/4,-π/3,π/8) ├┤M├\n",
       "     └───┘└─────────────────┘└╥┘\n",
       "c: 1/═════════════════════════╩═\n",
       "                              0 </pre>"
      ],
      "text/plain": [
       "     ┌───┐┌─────────────────┐┌─┐\n",
       "  q: ┤ H ├┤ U(π/4,-π/3,π/8) ├┤M├\n",
       "     └───┘└─────────────────┘└╥┘\n",
       "c: 1/═════════════════════════╩═\n",
       "                              0 "
      ]
     },
     "execution_count": 15,
     "metadata": {},
     "output_type": "execute_result"
    }
   ],
   "source": [
    "# Add measurement - used to calculate the modified state vector\n",
    "qc1.measure(0, 0)\n",
    "qc1.draw()"
   ]
  },
  {
   "cell_type": "code",
   "execution_count": null,
   "id": "6dca8242-7417-4ff9-9900-8372f01cd217",
   "metadata": {},
   "outputs": [],
   "source": [
    "# Define the number of shots for the execution. \n",
    "shotno=1024\n",
    "\n",
    "# Run the circuit on a real quantum computer. NB! This may take a while.\n",
    "job_ibmq = execute(qc1, ibmq_backend, shots=shotno)\n",
    "result = job_ibmq.result()"
   ]
  },
  {
   "cell_type": "markdown",
   "id": "ea3723e3-844e-4e05-b289-7139743677bd",
   "metadata": {},
   "source": [
    "## Perform calculations and plot result"
   ]
  },
  {
   "cell_type": "code",
   "execution_count": null,
   "id": "7a0e0d7f-77ad-4361-bb4e-00edbf024c31",
   "metadata": {},
   "outputs": [],
   "source": [
    "# Get count measurement results\n",
    "counts = result.get_counts()\n",
    "\n",
    "\n",
    "prob0qc = counts['0']/shotno\n",
    "prob1qc = counts['1']/shotno\n",
    "#print(\"Observed probabilities of measuring the computational basis states\", round(prob0qc,3), round(prob1qc,3))\n",
    "\n",
    "#print(\"Statevector: \", out)\n",
    "#print(\"Statevector probilities of measuring the basis states: \", out.probabilities())\n",
    "prob0statevec = out.probabilities()[0]\n",
    "prob1statevec = out.probabilities()[1]\n",
    "\n",
    "# one simple approach to calculate a quantum computer-modified complex number # amplitude^2 = probability\n",
    "z0qc = z0*sqrt(prob0qc/prob0statevec)\n",
    "z1qc = z1*sqrt(prob1qc/prob1statevec)\n",
    "zqc = z0qc/z1qc\n",
    "#zqcminus = -z0qc/z1qc\n",
    "#print(z,zqc,zqcminus)\n",
    "\n",
    "# compare the simulator state vector with the-running-on-a-real-quantum-computer modified state vector\n",
    "print(z,zqc)\n",
    "\n",
    "# Plot both Julia set fractals for comparison - the simulator based on the left and the modified on the right \n",
    "f, axarr = plt.subplots(1,2,figsize=(12, 12))\n",
    "axarr[0].imshow(julia_set(c=z), cmap='magma')\n",
    "axarr[1].imshow(julia_set(c=zqc), cmap='magma')"
   ]
  },
  {
   "cell_type": "code",
   "execution_count": null,
   "id": "5c00f90a-9e19-4fc8-a523-6f2e813b8a87",
   "metadata": {},
   "outputs": [],
   "source": []
  },
  {
   "cell_type": "code",
   "execution_count": null,
   "id": "ec05298d-4aab-4517-905d-7c99ed96c9d0",
   "metadata": {},
   "outputs": [],
   "source": []
  },
  {
   "cell_type": "code",
   "execution_count": null,
   "id": "47c21706-7d43-49b9-9cd1-38183ac79866",
   "metadata": {},
   "outputs": [],
   "source": []
  }
 ],
 "metadata": {
  "kernelspec": {
   "display_name": "Python 3 (ipykernel)",
   "language": "python",
   "name": "python3"
  },
  "language_info": {
   "codemirror_mode": {
    "name": "ipython",
    "version": 3
   },
   "file_extension": ".py",
   "mimetype": "text/x-python",
   "name": "python",
   "nbconvert_exporter": "python",
   "pygments_lexer": "ipython3",
   "version": "3.10.4"
  },
  "widgets": {
   "application/vnd.jupyter.widget-state+json": {
    "state": {
     "0890dfea36b540b0add173bbbfe4fc66": {
      "model_module": "@jupyter-widgets/controls",
      "model_module_version": "1.5.0",
      "model_name": "ButtonModel",
      "state": {
       "button_style": "primary",
       "description": "Clear",
       "layout": "IPY_MODEL_1c067c82036846138a1409a0fc99c360",
       "style": "IPY_MODEL_44fe76827bd9436ba7f026fc9b4e2303"
      }
     },
     "1c067c82036846138a1409a0fc99c360": {
      "model_module": "@jupyter-widgets/base",
      "model_module_version": "1.2.0",
      "model_name": "LayoutModel",
      "state": {
       "grid_area": "right",
       "padding": "0px 0px 0px 0px",
       "width": "70px"
      }
     },
     "44fe76827bd9436ba7f026fc9b4e2303": {
      "model_module": "@jupyter-widgets/controls",
      "model_module_version": "1.5.0",
      "model_name": "ButtonStyleModel",
      "state": {}
     },
     "4626b3d9578a4a7ebd9de1768f635cfd": {
      "model_module": "@jupyter-widgets/controls",
      "model_module_version": "1.5.0",
      "model_name": "HTMLModel",
      "state": {
       "layout": "IPY_MODEL_e691e7c91f8140d5bbbb556e3965115f",
       "style": "IPY_MODEL_7f166c8cbdf5470a88442887cfa8092c",
       "value": "<h5>Queue</h5>"
      }
     },
     "4a06540c471547f783185976d7bd51ac": {
      "model_module": "@jupyter-widgets/controls",
      "model_module_version": "1.5.0",
      "model_name": "DescriptionStyleModel",
      "state": {
       "description_width": ""
      }
     },
     "507be9a1b96342f995e39d2c5f45121a": {
      "model_module": "@jupyter-widgets/controls",
      "model_module_version": "1.5.0",
      "model_name": "DescriptionStyleModel",
      "state": {
       "description_width": ""
      }
     },
     "5def65a389944192b5e42f68c34dc498": {
      "model_module": "@jupyter-widgets/base",
      "model_module_version": "1.2.0",
      "model_name": "LayoutModel",
      "state": {
       "margin": "0px 0px 0px 37px",
       "width": "600px"
      }
     },
     "6b39584898f54d56a40d02a52b764631": {
      "model_module": "@jupyter-widgets/controls",
      "model_module_version": "1.5.0",
      "model_name": "HBoxModel",
      "state": {
       "children": [
        "IPY_MODEL_af75cb5827c94ecfafaaf2088c459a62",
        "IPY_MODEL_dd90276fc48748af9f27faa8a6e02cd8",
        "IPY_MODEL_dcea0404d9ec48088b1f54fc52c9f476",
        "IPY_MODEL_4626b3d9578a4a7ebd9de1768f635cfd",
        "IPY_MODEL_a0b29fc89df04dac99d644b96f4c4373"
       ],
       "layout": "IPY_MODEL_5def65a389944192b5e42f68c34dc498"
      }
     },
     "722476fda84f4af5b2514147f779a847": {
      "model_module": "@jupyter-widgets/base",
      "model_module_version": "1.2.0",
      "model_name": "LayoutModel",
      "state": {}
     },
     "7f166c8cbdf5470a88442887cfa8092c": {
      "model_module": "@jupyter-widgets/controls",
      "model_module_version": "1.5.0",
      "model_name": "DescriptionStyleModel",
      "state": {
       "description_width": ""
      }
     },
     "870e53798a574afd8de807a48c5b8ec4": {
      "model_module": "@jupyter-widgets/controls",
      "model_module_version": "1.5.0",
      "model_name": "DescriptionStyleModel",
      "state": {
       "description_width": ""
      }
     },
     "92ee4276b84e4fd2b534ede582af638c": {
      "model_module": "@jupyter-widgets/base",
      "model_module_version": "1.2.0",
      "model_name": "LayoutModel",
      "state": {
       "width": "145px"
      }
     },
     "9c208fbc714d4bf5a29e63a04f788f08": {
      "model_module": "@jupyter-widgets/controls",
      "model_module_version": "1.5.0",
      "model_name": "GridBoxModel",
      "state": {
       "children": [
        "IPY_MODEL_0890dfea36b540b0add173bbbfe4fc66"
       ],
       "layout": "IPY_MODEL_a5ef3e7d94754ac7acee4cc234dfbcaf"
      }
     },
     "a0b29fc89df04dac99d644b96f4c4373": {
      "model_module": "@jupyter-widgets/controls",
      "model_module_version": "1.5.0",
      "model_name": "HTMLModel",
      "state": {
       "layout": "IPY_MODEL_722476fda84f4af5b2514147f779a847",
       "style": "IPY_MODEL_eb8f041d98614eb5ab2791ebf8469ca6",
       "value": "<h5>Message</h5>"
      }
     },
     "a5ef3e7d94754ac7acee4cc234dfbcaf": {
      "model_module": "@jupyter-widgets/base",
      "model_module_version": "1.2.0",
      "model_name": "LayoutModel",
      "state": {
       "grid_template_areas": "\n                                       \". . . . right \"\n                                        ",
       "grid_template_columns": "20% 20% 20% 20% 20%",
       "width": "100%"
      }
     },
     "af75cb5827c94ecfafaaf2088c459a62": {
      "model_module": "@jupyter-widgets/controls",
      "model_module_version": "1.5.0",
      "model_name": "HTMLModel",
      "state": {
       "layout": "IPY_MODEL_e94e47b2908540f2b6a223a25b6cfbcb",
       "style": "IPY_MODEL_870e53798a574afd8de807a48c5b8ec4",
       "value": "<h5>Job ID</h5>"
      }
     },
     "b65e970e290d454c93f4505f256c14b5": {
      "model_module": "@quantum/ibm-q-lab-widgets",
      "model_module_version": "^1.0.3",
      "model_name": "CircuitComposerModel",
      "state": {
       "_model_module_version": "^1.0.3",
       "_view_module_version": "^1.0.3",
       "circuit": "\"OPENQASM 2.0;\\ninclude \\\"qelib1.inc\\\";\\n\\nqreg q[1];\\ncreg c[1];\\n\\nh q[0];\\nu(pi/4,-pi/3,pi/8) q[0];\"",
       "editable": true,
       "layout": "IPY_MODEL_e73335cfae984dd0922f8c7b86b3baf0",
       "qiskit_code_cell_index": -1
      }
     },
     "d603184adca3493c91a98c0223c027b1": {
      "model_module": "@jupyter-widgets/base",
      "model_module_version": "1.2.0",
      "model_name": "LayoutModel",
      "state": {
       "width": "95px"
      }
     },
     "dcb74f4537ab451690c3ef9ff6e2683c": {
      "model_module": "@jupyter-widgets/controls",
      "model_module_version": "1.5.0",
      "model_name": "DescriptionStyleModel",
      "state": {
       "description_width": ""
      }
     },
     "dcea0404d9ec48088b1f54fc52c9f476": {
      "model_module": "@jupyter-widgets/controls",
      "model_module_version": "1.5.0",
      "model_name": "HTMLModel",
      "state": {
       "layout": "IPY_MODEL_d603184adca3493c91a98c0223c027b1",
       "style": "IPY_MODEL_dcb74f4537ab451690c3ef9ff6e2683c",
       "value": "<h5>Status</h5>"
      }
     },
     "dd90276fc48748af9f27faa8a6e02cd8": {
      "model_module": "@jupyter-widgets/controls",
      "model_module_version": "1.5.0",
      "model_name": "HTMLModel",
      "state": {
       "layout": "IPY_MODEL_92ee4276b84e4fd2b534ede582af638c",
       "style": "IPY_MODEL_507be9a1b96342f995e39d2c5f45121a",
       "value": "<h5>Backend</h5>"
      }
     },
     "de11b7a6fe93472b8a36cd002a5a85ca": {
      "model_module": "@jupyter-widgets/base",
      "model_module_version": "1.2.0",
      "model_name": "LayoutModel",
      "state": {
       "margin": "0px 0px 10px 0px"
      }
     },
     "e4f7438e750f4594acb49a83d8a571de": {
      "model_module": "@jupyter-widgets/controls",
      "model_module_version": "1.5.0",
      "model_name": "HTMLModel",
      "state": {
       "layout": "IPY_MODEL_de11b7a6fe93472b8a36cd002a5a85ca",
       "style": "IPY_MODEL_4a06540c471547f783185976d7bd51ac",
       "value": "<p style='font-family: IBM Plex Sans, Arial, Helvetica, sans-serif; font-size: 20px; font-weight: medium;'>Circuit Properties</p>"
      }
     },
     "e691e7c91f8140d5bbbb556e3965115f": {
      "model_module": "@jupyter-widgets/base",
      "model_module_version": "1.2.0",
      "model_name": "LayoutModel",
      "state": {
       "width": "70px"
      }
     },
     "e73335cfae984dd0922f8c7b86b3baf0": {
      "model_module": "@jupyter-widgets/base",
      "model_module_version": "1.2.0",
      "model_name": "LayoutModel",
      "state": {}
     },
     "e94e47b2908540f2b6a223a25b6cfbcb": {
      "model_module": "@jupyter-widgets/base",
      "model_module_version": "1.2.0",
      "model_name": "LayoutModel",
      "state": {
       "width": "190px"
      }
     },
     "eb8f041d98614eb5ab2791ebf8469ca6": {
      "model_module": "@jupyter-widgets/controls",
      "model_module_version": "1.5.0",
      "model_name": "DescriptionStyleModel",
      "state": {
       "description_width": ""
      }
     }
    },
    "version_major": 2,
    "version_minor": 0
   }
  }
 },
 "nbformat": 4,
 "nbformat_minor": 5
}
